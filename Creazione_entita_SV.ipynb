{
 "cells": [
  {
   "cell_type": "code",
   "execution_count": null,
   "id": "2539301e",
   "metadata": {},
   "outputs": [],
   "source": [
    "import requests\n",
    "import json\n",
    "import pandas as pd"
   ]
  },
  {
   "cell_type": "code",
   "execution_count": null,
   "id": "a4ea62eb",
   "metadata": {},
   "outputs": [],
   "source": [
    "df = pd.read_excel('.xlsx', sheet_name='Things') #set the input name of the excel file\n",
    "df_csv = df.to_csv('.csv', index=False)\n",
    "\n",
    "df_csv = pd.read_csv('.csv')\n",
    "df_csv = df_csv.sort_values(by='unique Identifier\\n(M)')\n",
    "df_csv.head()"
   ]
  },
  {
   "cell_type": "code",
   "execution_count": null,
   "id": "62c08ce0",
   "metadata": {},
   "outputs": [],
   "source": [
    "df_col = pd.read_excel('.xlsx', sheet_name='Locations')\n",
    "df_csv_col = df_col.to_csv('.csv', index=False)\n",
    "\n",
    "df_csv_col = pd.read_csv('.csv')\n",
    "df_csv_col = df_csv_col.sort_values(by='unique Identifier\\n(M)')\n",
    "\n",
    "df_csv_col.head()"
   ]
  },
  {
   "cell_type": "code",
   "execution_count": null,
   "id": "eece0b48-6a3b-4cfb-b7e4-47091d18f5c2",
   "metadata": {},
   "outputs": [],
   "source": [
    "df_csv_col.columns"
   ]
  },
  {
   "cell_type": "code",
   "execution_count": null,
   "id": "904e1f1e-3507-4128-9a74-253c2ea71b58",
   "metadata": {},
   "outputs": [],
   "source": [
    "local_identifier = []\n",
    "\n",
    "for index, row in df_csv_col.iterrows():\n",
    "    unique_identifier = row[\"unique Identifier\\n(M)\"]\n",
    "    room_ids = row[\"ID of the room \\n(O)\"]\n",
    "    \n",
    "    if isinstance(room_ids, float):\n",
    "        room_ids = str(room_ids)  \n",
    "    \n",
    "    if isinstance(unique_identifier, str):\n",
    "        for room_id in room_ids.split(','):  \n",
    "            unique_identifier = unique_identifier.replace('OUT', '').replace('IND.', '')\n",
    "            local_identifier.append((unique_identifier, room_id.strip()))\n",
    "\n",
    "print(local_identifier)\n",
    "print(len(local_identifier))"
   ]
  },
  {
   "cell_type": "code",
   "execution_count": null,
   "id": "668cf6de-436c-46d4-b3e8-643db4ea76f1",
   "metadata": {},
   "outputs": [],
   "source": [
    "iot_id_counter = 1\n",
    "\n",
    "for index, row in df_csv.iterrows():\n",
    "        json_data_thing = {\n",
    "      \"id\": str(row[\"unique Identifier\\n(M)\"]),\n",
    "      \"method\": \"post\",\n",
    "      \"url\": \"Things\",\n",
    "      \"body\": {\n",
    "            \"@iot.id\": str(row[\"unique Identifier\\n(M)\"]),\n",
    "            \"name\": str(row[\"name\\n(M)\"]),\n",
    "            \"description\": str(row[\"description\\n(M)\"]),\n",
    "            \"properties\": {\n",
    "                \"identifier\": str(row[\"unique Identifier\\n(M)\"]),\n",
    "                \"owner\": str(row[\"owner \\n(O)\"]),\n",
    "                \"beginDatetime\": str(row[\"Begin datetime\\n(M)\"]),\n",
    "                \"endDatetime\": str(row[\"End datetime\\n(O)\"]),\n",
    "                \"localIdentifier\": str(row[\"local identifier\\n(O)\"])\n",
    "            },\n",
    "                \"Locations\": []  \n",
    "            }\n",
    "            }\n",
    "        \n",
    "\n",
    "        with open(f\"json\\\\Sevilla\\\\thing_{iot_id_counter}.json\", \"w\", encoding='utf-8') as json_file:\n",
    "            json.dump(json_data_thing, json_file, indent=4, ensure_ascii=False)\n",
    "\n",
    "        iot_id_counter += 1\n"
   ]
  },
  {
   "cell_type": "code",
   "execution_count": null,
   "id": "cbb28a95-3954-4f04-9b19-f38c3c02572b",
   "metadata": {},
   "outputs": [],
   "source": [
    "for i in range(1,13):  #tocheck\n",
    "    with open(f\"json\\\\Sevilla\\\\thing_{i}.json\", \"r\") as json_file:\n",
    "        json_data_thing = json.load(json_file)\n",
    "\n",
    "    location_to_add = None\n",
    "    for item in local_identifier:\n",
    "        if json_data_thing[\"body\"][\"properties\"][\"localIdentifier\"] == item[1]:\n",
    "            for idx, loc_row in df_csv_col.iterrows():\n",
    "                if isinstance(loc_row[\"ID of the room \\n(O)\"], float):\n",
    "                    room_ids = str(loc_row[\"ID of the room \\n(O)\"]) \n",
    "                else:\n",
    "                    room_ids = loc_row[\"ID of the room \\n(O)\"]\n",
    "                if item[1] in room_ids:  \n",
    "                    iot_id = str(loc_row[\"unique Identifier\\n(M)\"])\n",
    "                    \n",
    "                    \n",
    "                    def handle_nan(value):\n",
    "                        if pd.isna(value):\n",
    "                            if isinstance(value, str):\n",
    "                                return \"null\"\n",
    "                            else:\n",
    "                                return 0\n",
    "                        return value\n",
    "                    \n",
    "                    json_data_location = {\n",
    "                        \"@iot.id\": str(iot_id),\n",
    "                        \"name\": str(handle_nan(loc_row[\"name\\n(M)\"])),\n",
    "                        \"description\": str(handle_nan(loc_row[\"description \\n(M)\"])),\n",
    "                        \"properties\": {\n",
    "                            \"identifier\": str(iot_id),\n",
    "                            \"isOutdoor\" : \"false\", \n",
    "                            \"owner\": str(handle_nan(loc_row[\"owner \\n(O)\"])),\n",
    "                            \"idOfTheBuildingInOpenStreetMap\": str(handle_nan(loc_row[\"ID of the building in OpenStreetMap\\n(O)\"])),\n",
    "                            \"address\": str(handle_nan(loc_row[\"address\\n(M)\"])),\n",
    "                            \"country\": str(handle_nan(loc_row[\"country \\n(M)\"])),\n",
    "                            \"useOfTheBuilding\": str(handle_nan(loc_row[\"use of the building\\n(M)\"])),\n",
    "                            \"detailsAboutTheUse\": str(handle_nan(loc_row[\"details about the use (O)\"])),\n",
    "                            \"localIdentifier\": str(handle_nan(loc_row[\"ID of the room \\n(O)\"])),\n",
    "                            \"room\": {\n",
    "                                \"idOfTheRoom\": str(handle_nan(loc_row[\"ID of the room \\n(O)\"])),\n",
    "                                \"elevationOfTheThing\": handle_nan(loc_row[\"Elevation of the thing (vertical distance from mean sea level) - (O)\"]),\n",
    "                                \"levelFloor\": handle_nan(loc_row[\"level / floor\\n(O)\"]),\n",
    "                                \"verticalDistanceFromPavementOrGround\": handle_nan(loc_row[\"vertical distance  from pavement or ground (O)\"]),\n",
    "                                \"verticalDistanceFromCeilingOfTheRoom\": handle_nan(loc_row[\"vertical distance from ceiling of the room\\n(O)\"]),\n",
    "                                \"horizontalDistanceFromWalls\": handle_nan(loc_row[\"horizontal distance from walls \\n(O)\"])\n",
    "                            }\n",
    "                        },\n",
    "                        \"encodingType\": \"application/geo+json\",\n",
    "                        \"location\": {\n",
    "                            \"type\": \"MultiLineString\",\n",
    "                             \"coordinates\": COORD }\n",
    "                    }\n",
    "\n",
    "                    \n",
    "\n",
    "                    \n",
    "                    location_to_add = json_data_location\n",
    "                    break\n",
    "\n",
    "    if location_to_add:\n",
    "        json_data_thing[\"body\"][\"Locations\"] = [location_to_add]\n",
    "\n",
    "    \n",
    "    with open(f\"json\\\\Sevilla\\\\thing_{i}.json\", \"w\", encoding='utf-8') as json_file:\n",
    "        json.dump(json_data_thing, json_file, indent=4, ensure_ascii=False)\n",
    " "
   ]
  },
  {
   "cell_type": "code",
   "execution_count": null,
   "id": "199cd9d0-e655-4d45-bee0-9e1dda4c2e8d",
   "metadata": {},
   "outputs": [],
   "source": [
    "#BATCH\n",
    "\n",
    "json_struct = []\n",
    "\n",
    "fixed_part = {\n",
    "    \"POST to\": \"v1.1/$batch\",\n",
    "    \"Headers\": \"Content-Type: application/json\",\n",
    "    \"requests\": []  \n",
    "}\n",
    "json_struct.append(fixed_part)"
   ]
  },
  {
   "cell_type": "code",
   "execution_count": null,
   "id": "e327909c-bad8-427c-b7d7-443aeda87669",
   "metadata": {},
   "outputs": [],
   "source": [
    "for i in range(1, iot_id_counter):  \n",
    "    with open(f\"json\\\\Sevilla\\\\thing_{i}.json\", \"r\") as json_file:\n",
    "        json_data_thing = json.load(json_file)\n",
    "        json_struct[0][\"requests\"].append(json_data_thing)\n"
   ]
  },
  {
   "cell_type": "code",
   "execution_count": null,
   "id": "c33ae976-531f-40d8-b9a7-272def5e29ce",
   "metadata": {},
   "outputs": [],
   "source": [
    "formatted_json = json.dumps(json_struct, indent=3, ensure_ascii=False)\n",
    "\n",
    "try:\n",
    "    json.loads(formatted_json)\n",
    "    print(\"Il JSON è stato formattato correttamente.\")\n",
    "except json.JSONDecodeError as e:\n",
    "    print(f\"Errore nella formattazione: {e}\")\n",
    "    \n",
    "with open('complete_th_loc_SV.json', 'w', encoding='utf-8') as json_file:\n",
    "    json_file.write(formatted_json)\n"
   ]
  }
 ],
 "metadata": {
  "kernelspec": {
   "display_name": "Python 3 (ipykernel)",
   "language": "python",
   "name": "python3"
  },
  "language_info": {
   "codemirror_mode": {
    "name": "ipython",
    "version": 3
   },
   "file_extension": ".py",
   "mimetype": "text/x-python",
   "name": "python",
   "nbconvert_exporter": "python",
   "pygments_lexer": "ipython3",
   "version": "3.12.8"
  }
 },
 "nbformat": 4,
 "nbformat_minor": 5
}
