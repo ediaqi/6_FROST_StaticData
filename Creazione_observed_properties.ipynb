{
 "cells": [
  {
   "cell_type": "code",
   "execution_count": null,
   "id": "3f52ed03",
   "metadata": {},
   "outputs": [],
   "source": [
    "#OBS PROPERTIES"
   ]
  },
  {
   "cell_type": "code",
   "execution_count": null,
   "id": "2539301e",
   "metadata": {},
   "outputs": [],
   "source": [
    "import requests\n",
    "import json\n",
    "import pandas as pd"
   ]
  },
  {
   "cell_type": "code",
   "execution_count": null,
   "id": "a4ea62eb",
   "metadata": {
    "scrolled": true
   },
   "outputs": [],
   "source": [
    "df = pd.read_excel('creazione_obs_property.xlsx')\n",
    "df_csv = df.to_csv('creazione_obs_property.csv', index=False)\n",
    "df_csv = pd.read_csv('creazione_obs_property.csv')\n",
    "df_csv.head()"
   ]
  },
  {
   "cell_type": "code",
   "execution_count": null,
   "id": "2a5a681e",
   "metadata": {},
   "outputs": [],
   "source": [
    "#BATCH\n",
    "json_struct = []\n",
    "iot_id = 1\n",
    "iot_id_counter = 1\n",
    "fixed_part = {\n",
    "    \"POST to\": \"v1.1/$batch\",\n",
    "    \"Headers\": \"Content-Type: application/json\",\n",
    "    \"requests\": []  \n",
    "}\n",
    "json_struct.append(fixed_part)"
   ]
  },
  {
   "cell_type": "code",
   "execution_count": null,
   "id": "8dbb87ae",
   "metadata": {},
   "outputs": [],
   "source": [
    "for index, row in df_csv.iterrows():\n",
    "    iot_id_gen = f\"op.{iot_id_counter:03}\"\n",
    "\n",
    "    json_data = {\n",
    "      \"id\": str(iot_id_gen),\n",
    "      \"method\": \"post\",\n",
    "      \"url\": \"ObservedProperties\",\n",
    "      \"body\": {\n",
    "        \"@iot.id\": iot_id,\n",
    "        \"name\": str(row[\"name\"]),\n",
    "        \"definition\": str(row[\"definition\"]),\n",
    "        \"description\": str(row[\"description\"])\n",
    "      }\n",
    "    }\n",
    "    json_struct[0][\"requests\"].append(json_data)\n",
    "\n",
    "    iot_id_counter += 1\n",
    "    iot_id += 1\n"
   ]
  },
  {
   "cell_type": "code",
   "execution_count": null,
   "id": "ddfcaa2a",
   "metadata": {},
   "outputs": [],
   "source": [
    "formatted_json = json.dumps(json_struct, indent=3)\n",
    "try:\n",
    "    json.loads(formatted_json)\n",
    "    print(\"The JSON has been correctly formatted.\")\n",
    "except json.JSONDecodeError as e:\n",
    "    print(f\"Formatting error.: {e}\")"
   ]
  },
  {
   "cell_type": "code",
   "execution_count": null,
   "id": "4d9e5261",
   "metadata": {},
   "outputs": [],
   "source": [
    "with open('observed_properties.json', 'w') as json_file:\n",
    "    json_file.write(formatted_json)"
   ]
  }
 ],
 "metadata": {
  "kernelspec": {
   "display_name": "Python 3 (ipykernel)",
   "language": "python",
   "name": "python3"
  },
  "language_info": {
   "codemirror_mode": {
    "name": "ipython",
    "version": 3
   },
   "file_extension": ".py",
   "mimetype": "text/x-python",
   "name": "python",
   "nbconvert_exporter": "python",
   "pygments_lexer": "ipython3",
   "version": "3.12.8"
  }
 },
 "nbformat": 4,
 "nbformat_minor": 5
}
