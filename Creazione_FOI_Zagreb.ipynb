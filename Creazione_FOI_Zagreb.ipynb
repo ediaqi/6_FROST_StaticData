{
 "cells": [
  {
   "cell_type": "code",
   "execution_count": null,
   "id": "2539301e",
   "metadata": {},
   "outputs": [],
   "source": [
    "import requests\n",
    "import json\n",
    "import pandas as pd\n",
    "import numpy as np\n",
    "import re\n"
   ]
  },
  {
   "cell_type": "code",
   "execution_count": null,
   "id": "a4ea62eb",
   "metadata": {
    "scrolled": true
   },
   "outputs": [],
   "source": [
    "df_foi = pd.read_excel('', sheet_name='FeatureOfInterests')\n",
    "df_csv_foi = df_foi.to_csv('', index=False)\n",
    "\n",
    "df_csv_foi = pd.read_csv('')\n",
    "df_csv_foi = df_csv_foi.sort_values(by='unique Identifier\\n(M)')\n",
    "df_csv_foi.head()"
   ]
  },
  {
   "cell_type": "code",
   "execution_count": null,
   "id": "2a5a681e",
   "metadata": {},
   "outputs": [],
   "source": [
    "#BATCH\n",
    "\n",
    "json_struct = []\n",
    "iot_id_counter = 1\n",
    "\n",
    "fixed_part = {\n",
    "    \"POST to\": \"v1.1/$batch\",\n",
    "    \"Headers\": \"Content-Type: application/json\",\n",
    "    \"requests\": []\n",
    "}\n"
   ]
  },
  {
   "cell_type": "code",
   "execution_count": null,
   "id": "7652abce-db7f-450f-af2e-6ac728e79e3c",
   "metadata": {},
   "outputs": [],
   "source": [
    "def parse_coords(coords):\n",
    "    \n",
    "    if isinstance(coords, str):\n",
    "        # Rimuove spazi e virgole superflue\n",
    "        coords = re.sub(r'\\s*,\\s*', ',', coords)  # Elimina spazi extra attorno alle virgole\n",
    "        coords = coords.replace(\" ,\", \",\").replace(\", \", \",\")  # Rimuove virgole errate\n",
    "        coords = coords.replace(\"[,\", \"[\").replace(\",]\", \"]\")  # Corregge errori comuni\n",
    "        \n",
    "        # Converte la stringa in una vera lista JSON\n",
    "        try:\n",
    "            coords = json.loads(coords)\n",
    "        except json.JSONDecodeError:\n",
    "            return []  # Lista vuota\n",
    "\n",
    "    while isinstance(coords, list) and len(coords) == 1 and isinstance(coords[0], list):\n",
    "        coords = coords[0]\n",
    "\n",
    "    if isinstance(coords, list) and all(isinstance(point, list) and len(point) == 2 for point in coords):\n",
    "        return [coords]  # GeoJSON Polygon richiede un array annidato\n",
    "\n",
    "    return []\n",
    "\n",
    "\n",
    "\n",
    "def handle_nan(value):\n",
    "    # Converte NaN numerici e stringhe 'nan' in Null\n",
    "    if pd.isna(value) or value in [\"nan\", \"NaN\", None, np.nan]:\n",
    "        return None\n",
    "    return value"
   ]
  },
  {
   "cell_type": "code",
   "execution_count": null,
   "id": "692b37f6-ce0e-468f-85ca-9b33b385ebb5",
   "metadata": {},
   "outputs": [],
   "source": [
    "for index, row in df_csv_foi.iterrows():\n",
    "    json_data = {\n",
    "        \"id\": str(row[\"unique Identifier\\n(M)\"]),\n",
    "        \"method\": \"post\",\n",
    "        \"url\": \"FeaturesOfInterest\",\n",
    "        \"body\": {\n",
    "            \"name\": handle_nan(str(row[\"name \\n(M)\"])),  # Rimuove stringhe 'nan'\n",
    "            \"description\": handle_nan(str(row[\"description \\n(M)\"])),\n",
    "            \"encodingType\": \"application/geo+json\",\n",
    "            \"feature\": {\n",
    "                \"type\": \"Polygon\",\n",
    "                \"coordinates\": parse_coords(row[\"coords\"]) \n",
    "            },\n",
    "            \"properties\": {\n",
    "                \"identifier\": str(row[\"unique Identifier\\n(M)\"]),\n",
    "                \"localIdentifier\": str(row[\"local Identifier\\n(M)\"]),\n",
    "                \"room\": {\n",
    "                    \"indoorHeightOfTheRoom\": \"\",\n",
    "                    \"levelFloor\": handle_nan(row[\"level / floor\\n(O)\"]),\n",
    "                    \"useOfTheSingleRoom\": handle_nan(str(row[\"use of the single room (or building part) - (O)\"])),\n",
    "                    \"useDetails\": handle_nan(str(row[\"use_details\\n(O)\"])),\n",
    "                    \"floorArea\": handle_nan(row[\"floor area\\n(O)\"]),\n",
    "                    \"glazedArea\": handle_nan(row[\"glazed area\\n(O)\"]),\n",
    "                    \"ventilation\": handle_nan(str(row[\"ventilation\\n(O)\"]))\n",
    "                },\n",
    "                \"occupants\": {\n",
    "                    \"numberOfOccupants\": handle_nan(row[\"number of occupants\\n(O)\"]),\n",
    "                    \"mainTypeOfOccupants\": handle_nan(str(row[\"main type of occupants\\n(O)\"])),\n",
    "                    \"genderOfOccupants\": handle_nan(str(row[\"gender of occupants\\n(O)\"])),\n",
    "                    \"averageAgeOfOccupants\": handle_nan(str(row[\"average age of occupants\\n(O)\"])),\n",
    "                    \"occupancyHoursMon\": handle_nan(str(row[\"Occupancy hours\\nMon (O)\"])),\n",
    "                    \"occupancyHoursTue\": handle_nan(str(row[\"Occupancy hours\\nTue (O)\"])),\n",
    "                    \"occupancyHoursWed\": handle_nan(str(row[\"Occupancy hours\\nWed (O)\"])),\n",
    "                    \"occupancyHoursThu\": handle_nan(str(row[\"Occupancy hours\\nThu (O)\"])),\n",
    "                    \"occupancyHoursFri\": handle_nan(str(row[\"Occupancy hours\\nFri (O)\"])),\n",
    "                    \"occupancyHoursSat\": handle_nan(str(row[\"Occupancy hours\\nSat (O)\"])),\n",
    "                    \"occupancyHoursSun\": handle_nan(str(row[\"Occupancy hours\\nSun (O)\"]))\n",
    "                }\n",
    "            }\n",
    "        }\n",
    "    }\n",
    "    fixed_part[\"requests\"].append(json_data)\n",
    "\n",
    "    iot_id_counter += 1"
   ]
  },
  {
   "cell_type": "code",
   "execution_count": null,
   "id": "ab47a892-3908-4360-8f46-32bb215c563e",
   "metadata": {},
   "outputs": [],
   "source": [
    "formatted_json = json.dumps(fixed_part, indent=2, ensure_ascii=False)\n",
    "\n",
    "try:\n",
    "    json.loads(formatted_json)\n",
    "    print(\"Il JSON è stato formattato correttamente.\")\n",
    "except json.JSONDecodeError as e:\n",
    "    print(f\"Errore nella formattazione: {e}\")\n",
    "    \n",
    "with open('', 'w', encoding='utf-8') as json_file:\n",
    "    json_file.write(formatted_json)\n"
   ]
  }
 ],
 "metadata": {
  "kernelspec": {
   "display_name": "Python 3 (ipykernel)",
   "language": "python",
   "name": "python3"
  },
  "language_info": {
   "codemirror_mode": {
    "name": "ipython",
    "version": 3
   },
   "file_extension": ".py",
   "mimetype": "text/x-python",
   "name": "python",
   "nbconvert_exporter": "python",
   "pygments_lexer": "ipython3",
   "version": "3.11.8"
  }
 },
 "nbformat": 4,
 "nbformat_minor": 5
}
